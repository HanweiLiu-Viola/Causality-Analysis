{
 "cells": [
  {
   "cell_type": "markdown",
   "id": "5d5e1e93-7589-4abb-ae00-cfc29e99fe44",
   "metadata": {},
   "source": [
    "# Multimodal Causality Framework for time-series\n",
    "\n",
    "## Docker I: Functional Modalities\n",
    "\n",
    "### Time Domain Causality\n",
    "\n",
    "1. Conditional Granger Causality (cGC): VAR model from the statsmodels library\n",
    "2. Direct Transfer Function (DTF): [MVAR model](https://gist.github.com/agramfort/9875439)\n",
    "    [scot.connectivity](https://scot-dev.github.io/scot-doc/api/scot/scot.html)\n",
    "\n",
    "others: Multivariate Granger Causality (MVGC): One example code is supplied at [MNE-Connectivity](https://mne.tools/mne-connectivity/stable/auto_examples/granger_causality.html)\n",
    "\n",
    "### Frequency Domain Causality\n",
    "\n",
    "1. Partial Directed Coherence (PDC):\n",
    "   [PyPDC](https://github.com/heitorbaldo/PyPDC)\n",
    "   [MVAR Connectivity Estimation](https://sails.readthedocs.io/en/stable/tutorials/tutorial5.html)\n",
    "   \n",
    "3. Phase Slope Index (PSI): [mne_connectivity.SpectralConnectivity](https://mne.tools/mne-connectivity/stable/auto_examples/mne_inverse_psi_visual.html#sphx-glr-auto-examples-mne-inverse-psi-visual-py)\n",
    "4. Phase Lag Index (PLI): [mne_connectivity.spectral_connectivity_epochs](https://mne.tools/mne-connectivity/stable/auto_examples/dpli_wpli_pli.html#demo-on-meg-data)\n",
    "\n",
    "others: cGC in frequency domain: [FieldTrip](https://www.fieldtriptoolbox.org/example/spectral/granger_conditional/)\n",
    "\n",
    "### Information Theory Causality\n",
    "\n",
    "1. Transfer Entropy (TE):[notsebastiano/transfer_entropy](https://github.com/notsebastiano/transfer_entropy)\n",
    "   [pyPTE](https://github.com/patrk/pyPTE)\n",
    "   other Python libraries:pyinform, jpype etc.\n",
    "3. Mutual Information (MI): [sklearn](https://www.blog.trainindata.com/mutual-information-with-python/)\n",
    "4. Mixed Embedding:\n",
    "\n",
    "## Docker II: Structual Modalities - Graph Theory Causality\n",
    "\n",
    "1. Directed Graph:\n",
    "2. Connected Graph:\n",
    "3. Disconnected Graph:"
   ]
  },
  {
   "cell_type": "code",
   "execution_count": null,
   "id": "036a2007-8cf6-47d6-ae79-cc44559baa9c",
   "metadata": {},
   "outputs": [],
   "source": []
  }
 ],
 "metadata": {
  "kernelspec": {
   "display_name": "Python 3 (ipykernel)",
   "language": "python",
   "name": "python3"
  },
  "language_info": {
   "codemirror_mode": {
    "name": "ipython",
    "version": 3
   },
   "file_extension": ".py",
   "mimetype": "text/x-python",
   "name": "python",
   "nbconvert_exporter": "python",
   "pygments_lexer": "ipython3",
   "version": "3.12.0"
  }
 },
 "nbformat": 4,
 "nbformat_minor": 5
}
